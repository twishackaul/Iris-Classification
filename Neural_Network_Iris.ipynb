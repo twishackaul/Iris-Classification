{
  "nbformat": 4,
  "nbformat_minor": 0,
  "metadata": {
    "colab": {
      "provenance": [],
      "authorship_tag": "ABX9TyM62ybDExmrzU0ZfBHbyqkK",
      "include_colab_link": true
    },
    "kernelspec": {
      "name": "python3",
      "display_name": "Python 3"
    },
    "language_info": {
      "name": "python"
    }
  },
  "cells": [
    {
      "cell_type": "markdown",
      "metadata": {
        "id": "view-in-github",
        "colab_type": "text"
      },
      "source": [
        "<a href=\"https://colab.research.google.com/github/twishackaul/Iris-Classification/blob/main/Neural_Network_Iris.ipynb\" target=\"_parent\"><img src=\"https://colab.research.google.com/assets/colab-badge.svg\" alt=\"Open In Colab\"/></a>"
      ]
    },
    {
      "cell_type": "code",
      "execution_count": 1,
      "metadata": {
        "id": "YYwFyjuwVp0H"
      },
      "outputs": [],
      "source": [
        "import numpy as np\n",
        "import pandas as pd\n",
        "import tensorflow as tf\n",
        "from tensorflow import keras\n",
        "from tensorflow.keras.models import Sequential\n",
        "import matplotlib.pyplot as plt\n",
        "from sklearn.datasets import load_iris\n",
        "from sklearn.model_selection import train_test_split\n",
        "from sklearn.preprocessing import OneHotEncoder\n",
        "from tensorflow.keras.layers import Dense"
      ]
    },
    {
      "cell_type": "code",
      "source": [
        "iris = load_iris()\n",
        "iris"
      ],
      "metadata": {
        "colab": {
          "base_uri": "https://localhost:8080/"
        },
        "id": "YS6e3wOcWoPy",
        "outputId": "e392d8ed-38b6-4d47-8fd4-367173262f84"
      },
      "execution_count": 2,
      "outputs": [
        {
          "output_type": "execute_result",
          "data": {
            "text/plain": [
              "{'data': array([[5.1, 3.5, 1.4, 0.2],\n",
              "        [4.9, 3. , 1.4, 0.2],\n",
              "        [4.7, 3.2, 1.3, 0.2],\n",
              "        [4.6, 3.1, 1.5, 0.2],\n",
              "        [5. , 3.6, 1.4, 0.2],\n",
              "        [5.4, 3.9, 1.7, 0.4],\n",
              "        [4.6, 3.4, 1.4, 0.3],\n",
              "        [5. , 3.4, 1.5, 0.2],\n",
              "        [4.4, 2.9, 1.4, 0.2],\n",
              "        [4.9, 3.1, 1.5, 0.1],\n",
              "        [5.4, 3.7, 1.5, 0.2],\n",
              "        [4.8, 3.4, 1.6, 0.2],\n",
              "        [4.8, 3. , 1.4, 0.1],\n",
              "        [4.3, 3. , 1.1, 0.1],\n",
              "        [5.8, 4. , 1.2, 0.2],\n",
              "        [5.7, 4.4, 1.5, 0.4],\n",
              "        [5.4, 3.9, 1.3, 0.4],\n",
              "        [5.1, 3.5, 1.4, 0.3],\n",
              "        [5.7, 3.8, 1.7, 0.3],\n",
              "        [5.1, 3.8, 1.5, 0.3],\n",
              "        [5.4, 3.4, 1.7, 0.2],\n",
              "        [5.1, 3.7, 1.5, 0.4],\n",
              "        [4.6, 3.6, 1. , 0.2],\n",
              "        [5.1, 3.3, 1.7, 0.5],\n",
              "        [4.8, 3.4, 1.9, 0.2],\n",
              "        [5. , 3. , 1.6, 0.2],\n",
              "        [5. , 3.4, 1.6, 0.4],\n",
              "        [5.2, 3.5, 1.5, 0.2],\n",
              "        [5.2, 3.4, 1.4, 0.2],\n",
              "        [4.7, 3.2, 1.6, 0.2],\n",
              "        [4.8, 3.1, 1.6, 0.2],\n",
              "        [5.4, 3.4, 1.5, 0.4],\n",
              "        [5.2, 4.1, 1.5, 0.1],\n",
              "        [5.5, 4.2, 1.4, 0.2],\n",
              "        [4.9, 3.1, 1.5, 0.2],\n",
              "        [5. , 3.2, 1.2, 0.2],\n",
              "        [5.5, 3.5, 1.3, 0.2],\n",
              "        [4.9, 3.6, 1.4, 0.1],\n",
              "        [4.4, 3. , 1.3, 0.2],\n",
              "        [5.1, 3.4, 1.5, 0.2],\n",
              "        [5. , 3.5, 1.3, 0.3],\n",
              "        [4.5, 2.3, 1.3, 0.3],\n",
              "        [4.4, 3.2, 1.3, 0.2],\n",
              "        [5. , 3.5, 1.6, 0.6],\n",
              "        [5.1, 3.8, 1.9, 0.4],\n",
              "        [4.8, 3. , 1.4, 0.3],\n",
              "        [5.1, 3.8, 1.6, 0.2],\n",
              "        [4.6, 3.2, 1.4, 0.2],\n",
              "        [5.3, 3.7, 1.5, 0.2],\n",
              "        [5. , 3.3, 1.4, 0.2],\n",
              "        [7. , 3.2, 4.7, 1.4],\n",
              "        [6.4, 3.2, 4.5, 1.5],\n",
              "        [6.9, 3.1, 4.9, 1.5],\n",
              "        [5.5, 2.3, 4. , 1.3],\n",
              "        [6.5, 2.8, 4.6, 1.5],\n",
              "        [5.7, 2.8, 4.5, 1.3],\n",
              "        [6.3, 3.3, 4.7, 1.6],\n",
              "        [4.9, 2.4, 3.3, 1. ],\n",
              "        [6.6, 2.9, 4.6, 1.3],\n",
              "        [5.2, 2.7, 3.9, 1.4],\n",
              "        [5. , 2. , 3.5, 1. ],\n",
              "        [5.9, 3. , 4.2, 1.5],\n",
              "        [6. , 2.2, 4. , 1. ],\n",
              "        [6.1, 2.9, 4.7, 1.4],\n",
              "        [5.6, 2.9, 3.6, 1.3],\n",
              "        [6.7, 3.1, 4.4, 1.4],\n",
              "        [5.6, 3. , 4.5, 1.5],\n",
              "        [5.8, 2.7, 4.1, 1. ],\n",
              "        [6.2, 2.2, 4.5, 1.5],\n",
              "        [5.6, 2.5, 3.9, 1.1],\n",
              "        [5.9, 3.2, 4.8, 1.8],\n",
              "        [6.1, 2.8, 4. , 1.3],\n",
              "        [6.3, 2.5, 4.9, 1.5],\n",
              "        [6.1, 2.8, 4.7, 1.2],\n",
              "        [6.4, 2.9, 4.3, 1.3],\n",
              "        [6.6, 3. , 4.4, 1.4],\n",
              "        [6.8, 2.8, 4.8, 1.4],\n",
              "        [6.7, 3. , 5. , 1.7],\n",
              "        [6. , 2.9, 4.5, 1.5],\n",
              "        [5.7, 2.6, 3.5, 1. ],\n",
              "        [5.5, 2.4, 3.8, 1.1],\n",
              "        [5.5, 2.4, 3.7, 1. ],\n",
              "        [5.8, 2.7, 3.9, 1.2],\n",
              "        [6. , 2.7, 5.1, 1.6],\n",
              "        [5.4, 3. , 4.5, 1.5],\n",
              "        [6. , 3.4, 4.5, 1.6],\n",
              "        [6.7, 3.1, 4.7, 1.5],\n",
              "        [6.3, 2.3, 4.4, 1.3],\n",
              "        [5.6, 3. , 4.1, 1.3],\n",
              "        [5.5, 2.5, 4. , 1.3],\n",
              "        [5.5, 2.6, 4.4, 1.2],\n",
              "        [6.1, 3. , 4.6, 1.4],\n",
              "        [5.8, 2.6, 4. , 1.2],\n",
              "        [5. , 2.3, 3.3, 1. ],\n",
              "        [5.6, 2.7, 4.2, 1.3],\n",
              "        [5.7, 3. , 4.2, 1.2],\n",
              "        [5.7, 2.9, 4.2, 1.3],\n",
              "        [6.2, 2.9, 4.3, 1.3],\n",
              "        [5.1, 2.5, 3. , 1.1],\n",
              "        [5.7, 2.8, 4.1, 1.3],\n",
              "        [6.3, 3.3, 6. , 2.5],\n",
              "        [5.8, 2.7, 5.1, 1.9],\n",
              "        [7.1, 3. , 5.9, 2.1],\n",
              "        [6.3, 2.9, 5.6, 1.8],\n",
              "        [6.5, 3. , 5.8, 2.2],\n",
              "        [7.6, 3. , 6.6, 2.1],\n",
              "        [4.9, 2.5, 4.5, 1.7],\n",
              "        [7.3, 2.9, 6.3, 1.8],\n",
              "        [6.7, 2.5, 5.8, 1.8],\n",
              "        [7.2, 3.6, 6.1, 2.5],\n",
              "        [6.5, 3.2, 5.1, 2. ],\n",
              "        [6.4, 2.7, 5.3, 1.9],\n",
              "        [6.8, 3. , 5.5, 2.1],\n",
              "        [5.7, 2.5, 5. , 2. ],\n",
              "        [5.8, 2.8, 5.1, 2.4],\n",
              "        [6.4, 3.2, 5.3, 2.3],\n",
              "        [6.5, 3. , 5.5, 1.8],\n",
              "        [7.7, 3.8, 6.7, 2.2],\n",
              "        [7.7, 2.6, 6.9, 2.3],\n",
              "        [6. , 2.2, 5. , 1.5],\n",
              "        [6.9, 3.2, 5.7, 2.3],\n",
              "        [5.6, 2.8, 4.9, 2. ],\n",
              "        [7.7, 2.8, 6.7, 2. ],\n",
              "        [6.3, 2.7, 4.9, 1.8],\n",
              "        [6.7, 3.3, 5.7, 2.1],\n",
              "        [7.2, 3.2, 6. , 1.8],\n",
              "        [6.2, 2.8, 4.8, 1.8],\n",
              "        [6.1, 3. , 4.9, 1.8],\n",
              "        [6.4, 2.8, 5.6, 2.1],\n",
              "        [7.2, 3. , 5.8, 1.6],\n",
              "        [7.4, 2.8, 6.1, 1.9],\n",
              "        [7.9, 3.8, 6.4, 2. ],\n",
              "        [6.4, 2.8, 5.6, 2.2],\n",
              "        [6.3, 2.8, 5.1, 1.5],\n",
              "        [6.1, 2.6, 5.6, 1.4],\n",
              "        [7.7, 3. , 6.1, 2.3],\n",
              "        [6.3, 3.4, 5.6, 2.4],\n",
              "        [6.4, 3.1, 5.5, 1.8],\n",
              "        [6. , 3. , 4.8, 1.8],\n",
              "        [6.9, 3.1, 5.4, 2.1],\n",
              "        [6.7, 3.1, 5.6, 2.4],\n",
              "        [6.9, 3.1, 5.1, 2.3],\n",
              "        [5.8, 2.7, 5.1, 1.9],\n",
              "        [6.8, 3.2, 5.9, 2.3],\n",
              "        [6.7, 3.3, 5.7, 2.5],\n",
              "        [6.7, 3. , 5.2, 2.3],\n",
              "        [6.3, 2.5, 5. , 1.9],\n",
              "        [6.5, 3. , 5.2, 2. ],\n",
              "        [6.2, 3.4, 5.4, 2.3],\n",
              "        [5.9, 3. , 5.1, 1.8]]),\n",
              " 'target': array([0, 0, 0, 0, 0, 0, 0, 0, 0, 0, 0, 0, 0, 0, 0, 0, 0, 0, 0, 0, 0, 0,\n",
              "        0, 0, 0, 0, 0, 0, 0, 0, 0, 0, 0, 0, 0, 0, 0, 0, 0, 0, 0, 0, 0, 0,\n",
              "        0, 0, 0, 0, 0, 0, 1, 1, 1, 1, 1, 1, 1, 1, 1, 1, 1, 1, 1, 1, 1, 1,\n",
              "        1, 1, 1, 1, 1, 1, 1, 1, 1, 1, 1, 1, 1, 1, 1, 1, 1, 1, 1, 1, 1, 1,\n",
              "        1, 1, 1, 1, 1, 1, 1, 1, 1, 1, 1, 1, 2, 2, 2, 2, 2, 2, 2, 2, 2, 2,\n",
              "        2, 2, 2, 2, 2, 2, 2, 2, 2, 2, 2, 2, 2, 2, 2, 2, 2, 2, 2, 2, 2, 2,\n",
              "        2, 2, 2, 2, 2, 2, 2, 2, 2, 2, 2, 2, 2, 2, 2, 2, 2, 2]),\n",
              " 'frame': None,\n",
              " 'target_names': array(['setosa', 'versicolor', 'virginica'], dtype='<U10'),\n",
              " 'DESCR': '.. _iris_dataset:\\n\\nIris plants dataset\\n--------------------\\n\\n**Data Set Characteristics:**\\n\\n    :Number of Instances: 150 (50 in each of three classes)\\n    :Number of Attributes: 4 numeric, predictive attributes and the class\\n    :Attribute Information:\\n        - sepal length in cm\\n        - sepal width in cm\\n        - petal length in cm\\n        - petal width in cm\\n        - class:\\n                - Iris-Setosa\\n                - Iris-Versicolour\\n                - Iris-Virginica\\n                \\n    :Summary Statistics:\\n\\n    ============== ==== ==== ======= ===== ====================\\n                    Min  Max   Mean    SD   Class Correlation\\n    ============== ==== ==== ======= ===== ====================\\n    sepal length:   4.3  7.9   5.84   0.83    0.7826\\n    sepal width:    2.0  4.4   3.05   0.43   -0.4194\\n    petal length:   1.0  6.9   3.76   1.76    0.9490  (high!)\\n    petal width:    0.1  2.5   1.20   0.76    0.9565  (high!)\\n    ============== ==== ==== ======= ===== ====================\\n\\n    :Missing Attribute Values: None\\n    :Class Distribution: 33.3% for each of 3 classes.\\n    :Creator: R.A. Fisher\\n    :Donor: Michael Marshall (MARSHALL%PLU@io.arc.nasa.gov)\\n    :Date: July, 1988\\n\\nThe famous Iris database, first used by Sir R.A. Fisher. The dataset is taken\\nfrom Fisher\\'s paper. Note that it\\'s the same as in R, but not as in the UCI\\nMachine Learning Repository, which has two wrong data points.\\n\\nThis is perhaps the best known database to be found in the\\npattern recognition literature.  Fisher\\'s paper is a classic in the field and\\nis referenced frequently to this day.  (See Duda & Hart, for example.)  The\\ndata set contains 3 classes of 50 instances each, where each class refers to a\\ntype of iris plant.  One class is linearly separable from the other 2; the\\nlatter are NOT linearly separable from each other.\\n\\n.. topic:: References\\n\\n   - Fisher, R.A. \"The use of multiple measurements in taxonomic problems\"\\n     Annual Eugenics, 7, Part II, 179-188 (1936); also in \"Contributions to\\n     Mathematical Statistics\" (John Wiley, NY, 1950).\\n   - Duda, R.O., & Hart, P.E. (1973) Pattern Classification and Scene Analysis.\\n     (Q327.D83) John Wiley & Sons.  ISBN 0-471-22361-1.  See page 218.\\n   - Dasarathy, B.V. (1980) \"Nosing Around the Neighborhood: A New System\\n     Structure and Classification Rule for Recognition in Partially Exposed\\n     Environments\".  IEEE Transactions on Pattern Analysis and Machine\\n     Intelligence, Vol. PAMI-2, No. 1, 67-71.\\n   - Gates, G.W. (1972) \"The Reduced Nearest Neighbor Rule\".  IEEE Transactions\\n     on Information Theory, May 1972, 431-433.\\n   - See also: 1988 MLC Proceedings, 54-64.  Cheeseman et al\"s AUTOCLASS II\\n     conceptual clustering system finds 3 classes in the data.\\n   - Many, many more ...',\n",
              " 'feature_names': ['sepal length (cm)',\n",
              "  'sepal width (cm)',\n",
              "  'petal length (cm)',\n",
              "  'petal width (cm)'],\n",
              " 'filename': 'iris.csv',\n",
              " 'data_module': 'sklearn.datasets.data'}"
            ]
          },
          "metadata": {},
          "execution_count": 2
        }
      ]
    },
    {
      "cell_type": "markdown",
      "source": [
        "##Input Columns"
      ],
      "metadata": {
        "id": "K7hQJ8i4W6Fz"
      }
    },
    {
      "cell_type": "code",
      "source": [
        "X = pd.DataFrame(iris.data, columns = iris.feature_names)\n",
        "X"
      ],
      "metadata": {
        "colab": {
          "base_uri": "https://localhost:8080/",
          "height": 424
        },
        "id": "b4A49_yTW2cI",
        "outputId": "25490b97-fd20-4aa6-9ff0-83d042b615cd"
      },
      "execution_count": 3,
      "outputs": [
        {
          "output_type": "execute_result",
          "data": {
            "text/plain": [
              "     sepal length (cm)  sepal width (cm)  petal length (cm)  petal width (cm)\n",
              "0                  5.1               3.5                1.4               0.2\n",
              "1                  4.9               3.0                1.4               0.2\n",
              "2                  4.7               3.2                1.3               0.2\n",
              "3                  4.6               3.1                1.5               0.2\n",
              "4                  5.0               3.6                1.4               0.2\n",
              "..                 ...               ...                ...               ...\n",
              "145                6.7               3.0                5.2               2.3\n",
              "146                6.3               2.5                5.0               1.9\n",
              "147                6.5               3.0                5.2               2.0\n",
              "148                6.2               3.4                5.4               2.3\n",
              "149                5.9               3.0                5.1               1.8\n",
              "\n",
              "[150 rows x 4 columns]"
            ],
            "text/html": [
              "\n",
              "  <div id=\"df-35d285e2-0209-425f-9460-ccc18ff86e75\" class=\"colab-df-container\">\n",
              "    <div>\n",
              "<style scoped>\n",
              "    .dataframe tbody tr th:only-of-type {\n",
              "        vertical-align: middle;\n",
              "    }\n",
              "\n",
              "    .dataframe tbody tr th {\n",
              "        vertical-align: top;\n",
              "    }\n",
              "\n",
              "    .dataframe thead th {\n",
              "        text-align: right;\n",
              "    }\n",
              "</style>\n",
              "<table border=\"1\" class=\"dataframe\">\n",
              "  <thead>\n",
              "    <tr style=\"text-align: right;\">\n",
              "      <th></th>\n",
              "      <th>sepal length (cm)</th>\n",
              "      <th>sepal width (cm)</th>\n",
              "      <th>petal length (cm)</th>\n",
              "      <th>petal width (cm)</th>\n",
              "    </tr>\n",
              "  </thead>\n",
              "  <tbody>\n",
              "    <tr>\n",
              "      <th>0</th>\n",
              "      <td>5.1</td>\n",
              "      <td>3.5</td>\n",
              "      <td>1.4</td>\n",
              "      <td>0.2</td>\n",
              "    </tr>\n",
              "    <tr>\n",
              "      <th>1</th>\n",
              "      <td>4.9</td>\n",
              "      <td>3.0</td>\n",
              "      <td>1.4</td>\n",
              "      <td>0.2</td>\n",
              "    </tr>\n",
              "    <tr>\n",
              "      <th>2</th>\n",
              "      <td>4.7</td>\n",
              "      <td>3.2</td>\n",
              "      <td>1.3</td>\n",
              "      <td>0.2</td>\n",
              "    </tr>\n",
              "    <tr>\n",
              "      <th>3</th>\n",
              "      <td>4.6</td>\n",
              "      <td>3.1</td>\n",
              "      <td>1.5</td>\n",
              "      <td>0.2</td>\n",
              "    </tr>\n",
              "    <tr>\n",
              "      <th>4</th>\n",
              "      <td>5.0</td>\n",
              "      <td>3.6</td>\n",
              "      <td>1.4</td>\n",
              "      <td>0.2</td>\n",
              "    </tr>\n",
              "    <tr>\n",
              "      <th>...</th>\n",
              "      <td>...</td>\n",
              "      <td>...</td>\n",
              "      <td>...</td>\n",
              "      <td>...</td>\n",
              "    </tr>\n",
              "    <tr>\n",
              "      <th>145</th>\n",
              "      <td>6.7</td>\n",
              "      <td>3.0</td>\n",
              "      <td>5.2</td>\n",
              "      <td>2.3</td>\n",
              "    </tr>\n",
              "    <tr>\n",
              "      <th>146</th>\n",
              "      <td>6.3</td>\n",
              "      <td>2.5</td>\n",
              "      <td>5.0</td>\n",
              "      <td>1.9</td>\n",
              "    </tr>\n",
              "    <tr>\n",
              "      <th>147</th>\n",
              "      <td>6.5</td>\n",
              "      <td>3.0</td>\n",
              "      <td>5.2</td>\n",
              "      <td>2.0</td>\n",
              "    </tr>\n",
              "    <tr>\n",
              "      <th>148</th>\n",
              "      <td>6.2</td>\n",
              "      <td>3.4</td>\n",
              "      <td>5.4</td>\n",
              "      <td>2.3</td>\n",
              "    </tr>\n",
              "    <tr>\n",
              "      <th>149</th>\n",
              "      <td>5.9</td>\n",
              "      <td>3.0</td>\n",
              "      <td>5.1</td>\n",
              "      <td>1.8</td>\n",
              "    </tr>\n",
              "  </tbody>\n",
              "</table>\n",
              "<p>150 rows × 4 columns</p>\n",
              "</div>\n",
              "    <div class=\"colab-df-buttons\">\n",
              "\n",
              "  <div class=\"colab-df-container\">\n",
              "    <button class=\"colab-df-convert\" onclick=\"convertToInteractive('df-35d285e2-0209-425f-9460-ccc18ff86e75')\"\n",
              "            title=\"Convert this dataframe to an interactive table.\"\n",
              "            style=\"display:none;\">\n",
              "\n",
              "  <svg xmlns=\"http://www.w3.org/2000/svg\" height=\"24px\" viewBox=\"0 -960 960 960\">\n",
              "    <path d=\"M120-120v-720h720v720H120Zm60-500h600v-160H180v160Zm220 220h160v-160H400v160Zm0 220h160v-160H400v160ZM180-400h160v-160H180v160Zm440 0h160v-160H620v160ZM180-180h160v-160H180v160Zm440 0h160v-160H620v160Z\"/>\n",
              "  </svg>\n",
              "    </button>\n",
              "\n",
              "  <style>\n",
              "    .colab-df-container {\n",
              "      display:flex;\n",
              "      gap: 12px;\n",
              "    }\n",
              "\n",
              "    .colab-df-convert {\n",
              "      background-color: #E8F0FE;\n",
              "      border: none;\n",
              "      border-radius: 50%;\n",
              "      cursor: pointer;\n",
              "      display: none;\n",
              "      fill: #1967D2;\n",
              "      height: 32px;\n",
              "      padding: 0 0 0 0;\n",
              "      width: 32px;\n",
              "    }\n",
              "\n",
              "    .colab-df-convert:hover {\n",
              "      background-color: #E2EBFA;\n",
              "      box-shadow: 0px 1px 2px rgba(60, 64, 67, 0.3), 0px 1px 3px 1px rgba(60, 64, 67, 0.15);\n",
              "      fill: #174EA6;\n",
              "    }\n",
              "\n",
              "    .colab-df-buttons div {\n",
              "      margin-bottom: 4px;\n",
              "    }\n",
              "\n",
              "    [theme=dark] .colab-df-convert {\n",
              "      background-color: #3B4455;\n",
              "      fill: #D2E3FC;\n",
              "    }\n",
              "\n",
              "    [theme=dark] .colab-df-convert:hover {\n",
              "      background-color: #434B5C;\n",
              "      box-shadow: 0px 1px 3px 1px rgba(0, 0, 0, 0.15);\n",
              "      filter: drop-shadow(0px 1px 2px rgba(0, 0, 0, 0.3));\n",
              "      fill: #FFFFFF;\n",
              "    }\n",
              "  </style>\n",
              "\n",
              "    <script>\n",
              "      const buttonEl =\n",
              "        document.querySelector('#df-35d285e2-0209-425f-9460-ccc18ff86e75 button.colab-df-convert');\n",
              "      buttonEl.style.display =\n",
              "        google.colab.kernel.accessAllowed ? 'block' : 'none';\n",
              "\n",
              "      async function convertToInteractive(key) {\n",
              "        const element = document.querySelector('#df-35d285e2-0209-425f-9460-ccc18ff86e75');\n",
              "        const dataTable =\n",
              "          await google.colab.kernel.invokeFunction('convertToInteractive',\n",
              "                                                    [key], {});\n",
              "        if (!dataTable) return;\n",
              "\n",
              "        const docLinkHtml = 'Like what you see? Visit the ' +\n",
              "          '<a target=\"_blank\" href=https://colab.research.google.com/notebooks/data_table.ipynb>data table notebook</a>'\n",
              "          + ' to learn more about interactive tables.';\n",
              "        element.innerHTML = '';\n",
              "        dataTable['output_type'] = 'display_data';\n",
              "        await google.colab.output.renderOutput(dataTable, element);\n",
              "        const docLink = document.createElement('div');\n",
              "        docLink.innerHTML = docLinkHtml;\n",
              "        element.appendChild(docLink);\n",
              "      }\n",
              "    </script>\n",
              "  </div>\n",
              "\n",
              "\n",
              "<div id=\"df-ea9ed8f4-d976-4966-b57d-e1027d7ed42b\">\n",
              "  <button class=\"colab-df-quickchart\" onclick=\"quickchart('df-ea9ed8f4-d976-4966-b57d-e1027d7ed42b')\"\n",
              "            title=\"Suggest charts\"\n",
              "            style=\"display:none;\">\n",
              "\n",
              "<svg xmlns=\"http://www.w3.org/2000/svg\" height=\"24px\"viewBox=\"0 0 24 24\"\n",
              "     width=\"24px\">\n",
              "    <g>\n",
              "        <path d=\"M19 3H5c-1.1 0-2 .9-2 2v14c0 1.1.9 2 2 2h14c1.1 0 2-.9 2-2V5c0-1.1-.9-2-2-2zM9 17H7v-7h2v7zm4 0h-2V7h2v10zm4 0h-2v-4h2v4z\"/>\n",
              "    </g>\n",
              "</svg>\n",
              "  </button>\n",
              "\n",
              "<style>\n",
              "  .colab-df-quickchart {\n",
              "      --bg-color: #E8F0FE;\n",
              "      --fill-color: #1967D2;\n",
              "      --hover-bg-color: #E2EBFA;\n",
              "      --hover-fill-color: #174EA6;\n",
              "      --disabled-fill-color: #AAA;\n",
              "      --disabled-bg-color: #DDD;\n",
              "  }\n",
              "\n",
              "  [theme=dark] .colab-df-quickchart {\n",
              "      --bg-color: #3B4455;\n",
              "      --fill-color: #D2E3FC;\n",
              "      --hover-bg-color: #434B5C;\n",
              "      --hover-fill-color: #FFFFFF;\n",
              "      --disabled-bg-color: #3B4455;\n",
              "      --disabled-fill-color: #666;\n",
              "  }\n",
              "\n",
              "  .colab-df-quickchart {\n",
              "    background-color: var(--bg-color);\n",
              "    border: none;\n",
              "    border-radius: 50%;\n",
              "    cursor: pointer;\n",
              "    display: none;\n",
              "    fill: var(--fill-color);\n",
              "    height: 32px;\n",
              "    padding: 0;\n",
              "    width: 32px;\n",
              "  }\n",
              "\n",
              "  .colab-df-quickchart:hover {\n",
              "    background-color: var(--hover-bg-color);\n",
              "    box-shadow: 0 1px 2px rgba(60, 64, 67, 0.3), 0 1px 3px 1px rgba(60, 64, 67, 0.15);\n",
              "    fill: var(--button-hover-fill-color);\n",
              "  }\n",
              "\n",
              "  .colab-df-quickchart-complete:disabled,\n",
              "  .colab-df-quickchart-complete:disabled:hover {\n",
              "    background-color: var(--disabled-bg-color);\n",
              "    fill: var(--disabled-fill-color);\n",
              "    box-shadow: none;\n",
              "  }\n",
              "\n",
              "  .colab-df-spinner {\n",
              "    border: 2px solid var(--fill-color);\n",
              "    border-color: transparent;\n",
              "    border-bottom-color: var(--fill-color);\n",
              "    animation:\n",
              "      spin 1s steps(1) infinite;\n",
              "  }\n",
              "\n",
              "  @keyframes spin {\n",
              "    0% {\n",
              "      border-color: transparent;\n",
              "      border-bottom-color: var(--fill-color);\n",
              "      border-left-color: var(--fill-color);\n",
              "    }\n",
              "    20% {\n",
              "      border-color: transparent;\n",
              "      border-left-color: var(--fill-color);\n",
              "      border-top-color: var(--fill-color);\n",
              "    }\n",
              "    30% {\n",
              "      border-color: transparent;\n",
              "      border-left-color: var(--fill-color);\n",
              "      border-top-color: var(--fill-color);\n",
              "      border-right-color: var(--fill-color);\n",
              "    }\n",
              "    40% {\n",
              "      border-color: transparent;\n",
              "      border-right-color: var(--fill-color);\n",
              "      border-top-color: var(--fill-color);\n",
              "    }\n",
              "    60% {\n",
              "      border-color: transparent;\n",
              "      border-right-color: var(--fill-color);\n",
              "    }\n",
              "    80% {\n",
              "      border-color: transparent;\n",
              "      border-right-color: var(--fill-color);\n",
              "      border-bottom-color: var(--fill-color);\n",
              "    }\n",
              "    90% {\n",
              "      border-color: transparent;\n",
              "      border-bottom-color: var(--fill-color);\n",
              "    }\n",
              "  }\n",
              "</style>\n",
              "\n",
              "  <script>\n",
              "    async function quickchart(key) {\n",
              "      const quickchartButtonEl =\n",
              "        document.querySelector('#' + key + ' button');\n",
              "      quickchartButtonEl.disabled = true;  // To prevent multiple clicks.\n",
              "      quickchartButtonEl.classList.add('colab-df-spinner');\n",
              "      try {\n",
              "        const charts = await google.colab.kernel.invokeFunction(\n",
              "            'suggestCharts', [key], {});\n",
              "      } catch (error) {\n",
              "        console.error('Error during call to suggestCharts:', error);\n",
              "      }\n",
              "      quickchartButtonEl.classList.remove('colab-df-spinner');\n",
              "      quickchartButtonEl.classList.add('colab-df-quickchart-complete');\n",
              "    }\n",
              "    (() => {\n",
              "      let quickchartButtonEl =\n",
              "        document.querySelector('#df-ea9ed8f4-d976-4966-b57d-e1027d7ed42b button');\n",
              "      quickchartButtonEl.style.display =\n",
              "        google.colab.kernel.accessAllowed ? 'block' : 'none';\n",
              "    })();\n",
              "  </script>\n",
              "</div>\n",
              "\n",
              "  <div id=\"id_b869a885-246b-47c2-8e99-dc1d3cffa8e3\">\n",
              "    <style>\n",
              "      .colab-df-generate {\n",
              "        background-color: #E8F0FE;\n",
              "        border: none;\n",
              "        border-radius: 50%;\n",
              "        cursor: pointer;\n",
              "        display: none;\n",
              "        fill: #1967D2;\n",
              "        height: 32px;\n",
              "        padding: 0 0 0 0;\n",
              "        width: 32px;\n",
              "      }\n",
              "\n",
              "      .colab-df-generate:hover {\n",
              "        background-color: #E2EBFA;\n",
              "        box-shadow: 0px 1px 2px rgba(60, 64, 67, 0.3), 0px 1px 3px 1px rgba(60, 64, 67, 0.15);\n",
              "        fill: #174EA6;\n",
              "      }\n",
              "\n",
              "      [theme=dark] .colab-df-generate {\n",
              "        background-color: #3B4455;\n",
              "        fill: #D2E3FC;\n",
              "      }\n",
              "\n",
              "      [theme=dark] .colab-df-generate:hover {\n",
              "        background-color: #434B5C;\n",
              "        box-shadow: 0px 1px 3px 1px rgba(0, 0, 0, 0.15);\n",
              "        filter: drop-shadow(0px 1px 2px rgba(0, 0, 0, 0.3));\n",
              "        fill: #FFFFFF;\n",
              "      }\n",
              "    </style>\n",
              "    <button class=\"colab-df-generate\" onclick=\"generateWithVariable('X')\"\n",
              "            title=\"Generate code using this dataframe.\"\n",
              "            style=\"display:none;\">\n",
              "\n",
              "  <svg xmlns=\"http://www.w3.org/2000/svg\" height=\"24px\"viewBox=\"0 0 24 24\"\n",
              "       width=\"24px\">\n",
              "    <path d=\"M7,19H8.4L18.45,9,17,7.55,7,17.6ZM5,21V16.75L18.45,3.32a2,2,0,0,1,2.83,0l1.4,1.43a1.91,1.91,0,0,1,.58,1.4,1.91,1.91,0,0,1-.58,1.4L9.25,21ZM18.45,9,17,7.55Zm-12,3A5.31,5.31,0,0,0,4.9,8.1,5.31,5.31,0,0,0,1,6.5,5.31,5.31,0,0,0,4.9,4.9,5.31,5.31,0,0,0,6.5,1,5.31,5.31,0,0,0,8.1,4.9,5.31,5.31,0,0,0,12,6.5,5.46,5.46,0,0,0,6.5,12Z\"/>\n",
              "  </svg>\n",
              "    </button>\n",
              "    <script>\n",
              "      (() => {\n",
              "      const buttonEl =\n",
              "        document.querySelector('#id_b869a885-246b-47c2-8e99-dc1d3cffa8e3 button.colab-df-generate');\n",
              "      buttonEl.style.display =\n",
              "        google.colab.kernel.accessAllowed ? 'block' : 'none';\n",
              "\n",
              "      buttonEl.onclick = () => {\n",
              "        google.colab.notebook.generateWithVariable('X');\n",
              "      }\n",
              "      })();\n",
              "    </script>\n",
              "  </div>\n",
              "\n",
              "    </div>\n",
              "  </div>\n"
            ],
            "application/vnd.google.colaboratory.intrinsic+json": {
              "type": "dataframe",
              "variable_name": "X",
              "summary": "{\n  \"name\": \"X\",\n  \"rows\": 150,\n  \"fields\": [\n    {\n      \"column\": \"sepal length (cm)\",\n      \"properties\": {\n        \"dtype\": \"number\",\n        \"std\": 0.828066127977863,\n        \"min\": 4.3,\n        \"max\": 7.9,\n        \"num_unique_values\": 35,\n        \"samples\": [\n          6.2,\n          4.5,\n          5.6\n        ],\n        \"semantic_type\": \"\",\n        \"description\": \"\"\n      }\n    },\n    {\n      \"column\": \"sepal width (cm)\",\n      \"properties\": {\n        \"dtype\": \"number\",\n        \"std\": 0.4358662849366982,\n        \"min\": 2.0,\n        \"max\": 4.4,\n        \"num_unique_values\": 23,\n        \"samples\": [\n          2.3,\n          4.0,\n          3.5\n        ],\n        \"semantic_type\": \"\",\n        \"description\": \"\"\n      }\n    },\n    {\n      \"column\": \"petal length (cm)\",\n      \"properties\": {\n        \"dtype\": \"number\",\n        \"std\": 1.7652982332594662,\n        \"min\": 1.0,\n        \"max\": 6.9,\n        \"num_unique_values\": 43,\n        \"samples\": [\n          6.7,\n          3.8,\n          3.7\n        ],\n        \"semantic_type\": \"\",\n        \"description\": \"\"\n      }\n    },\n    {\n      \"column\": \"petal width (cm)\",\n      \"properties\": {\n        \"dtype\": \"number\",\n        \"std\": 0.7622376689603465,\n        \"min\": 0.1,\n        \"max\": 2.5,\n        \"num_unique_values\": 22,\n        \"samples\": [\n          0.2,\n          1.2,\n          1.3\n        ],\n        \"semantic_type\": \"\",\n        \"description\": \"\"\n      }\n    }\n  ]\n}"
            }
          },
          "metadata": {},
          "execution_count": 3
        }
      ]
    },
    {
      "cell_type": "markdown",
      "source": [
        "##Output Columns"
      ],
      "metadata": {
        "id": "pBYVfDqpXDXx"
      }
    },
    {
      "cell_type": "code",
      "source": [
        "y = iris.target\n",
        "y"
      ],
      "metadata": {
        "colab": {
          "base_uri": "https://localhost:8080/"
        },
        "id": "PDUkRclgXBmC",
        "outputId": "7df3602f-d425-4306-a213-8dd0f1f91dfc"
      },
      "execution_count": 4,
      "outputs": [
        {
          "output_type": "execute_result",
          "data": {
            "text/plain": [
              "array([0, 0, 0, 0, 0, 0, 0, 0, 0, 0, 0, 0, 0, 0, 0, 0, 0, 0, 0, 0, 0, 0,\n",
              "       0, 0, 0, 0, 0, 0, 0, 0, 0, 0, 0, 0, 0, 0, 0, 0, 0, 0, 0, 0, 0, 0,\n",
              "       0, 0, 0, 0, 0, 0, 1, 1, 1, 1, 1, 1, 1, 1, 1, 1, 1, 1, 1, 1, 1, 1,\n",
              "       1, 1, 1, 1, 1, 1, 1, 1, 1, 1, 1, 1, 1, 1, 1, 1, 1, 1, 1, 1, 1, 1,\n",
              "       1, 1, 1, 1, 1, 1, 1, 1, 1, 1, 1, 1, 2, 2, 2, 2, 2, 2, 2, 2, 2, 2,\n",
              "       2, 2, 2, 2, 2, 2, 2, 2, 2, 2, 2, 2, 2, 2, 2, 2, 2, 2, 2, 2, 2, 2,\n",
              "       2, 2, 2, 2, 2, 2, 2, 2, 2, 2, 2, 2, 2, 2, 2, 2, 2, 2])"
            ]
          },
          "metadata": {},
          "execution_count": 4
        }
      ]
    },
    {
      "cell_type": "markdown",
      "source": [
        "##Converting the normal output in the one hot encoded values"
      ],
      "metadata": {
        "id": "yMIarfvUYfQR"
      }
    },
    {
      "cell_type": "code",
      "source": [
        "encoder = OneHotEncoder(sparse = False)\n",
        "y = encoder.fit_transform(y.reshape(-1,1))"
      ],
      "metadata": {
        "id": "prmRif-LYmNJ",
        "colab": {
          "base_uri": "https://localhost:8080/"
        },
        "outputId": "5bb3ff57-bfa3-4693-ca0b-0e9d918edb41"
      },
      "execution_count": 5,
      "outputs": [
        {
          "output_type": "stream",
          "name": "stderr",
          "text": [
            "/usr/local/lib/python3.10/dist-packages/sklearn/preprocessing/_encoders.py:868: FutureWarning: `sparse` was renamed to `sparse_output` in version 1.2 and will be removed in 1.4. `sparse_output` is ignored unless you leave `sparse` to its default value.\n",
            "  warnings.warn(\n"
          ]
        }
      ]
    },
    {
      "cell_type": "code",
      "source": [
        "y"
      ],
      "metadata": {
        "colab": {
          "base_uri": "https://localhost:8080/"
        },
        "id": "TfOEM9s4Y3Jk",
        "outputId": "4e0e67d9-7df1-4c6f-ab9c-af64e29a89f6"
      },
      "execution_count": 6,
      "outputs": [
        {
          "output_type": "execute_result",
          "data": {
            "text/plain": [
              "array([[1., 0., 0.],\n",
              "       [1., 0., 0.],\n",
              "       [1., 0., 0.],\n",
              "       [1., 0., 0.],\n",
              "       [1., 0., 0.],\n",
              "       [1., 0., 0.],\n",
              "       [1., 0., 0.],\n",
              "       [1., 0., 0.],\n",
              "       [1., 0., 0.],\n",
              "       [1., 0., 0.],\n",
              "       [1., 0., 0.],\n",
              "       [1., 0., 0.],\n",
              "       [1., 0., 0.],\n",
              "       [1., 0., 0.],\n",
              "       [1., 0., 0.],\n",
              "       [1., 0., 0.],\n",
              "       [1., 0., 0.],\n",
              "       [1., 0., 0.],\n",
              "       [1., 0., 0.],\n",
              "       [1., 0., 0.],\n",
              "       [1., 0., 0.],\n",
              "       [1., 0., 0.],\n",
              "       [1., 0., 0.],\n",
              "       [1., 0., 0.],\n",
              "       [1., 0., 0.],\n",
              "       [1., 0., 0.],\n",
              "       [1., 0., 0.],\n",
              "       [1., 0., 0.],\n",
              "       [1., 0., 0.],\n",
              "       [1., 0., 0.],\n",
              "       [1., 0., 0.],\n",
              "       [1., 0., 0.],\n",
              "       [1., 0., 0.],\n",
              "       [1., 0., 0.],\n",
              "       [1., 0., 0.],\n",
              "       [1., 0., 0.],\n",
              "       [1., 0., 0.],\n",
              "       [1., 0., 0.],\n",
              "       [1., 0., 0.],\n",
              "       [1., 0., 0.],\n",
              "       [1., 0., 0.],\n",
              "       [1., 0., 0.],\n",
              "       [1., 0., 0.],\n",
              "       [1., 0., 0.],\n",
              "       [1., 0., 0.],\n",
              "       [1., 0., 0.],\n",
              "       [1., 0., 0.],\n",
              "       [1., 0., 0.],\n",
              "       [1., 0., 0.],\n",
              "       [1., 0., 0.],\n",
              "       [0., 1., 0.],\n",
              "       [0., 1., 0.],\n",
              "       [0., 1., 0.],\n",
              "       [0., 1., 0.],\n",
              "       [0., 1., 0.],\n",
              "       [0., 1., 0.],\n",
              "       [0., 1., 0.],\n",
              "       [0., 1., 0.],\n",
              "       [0., 1., 0.],\n",
              "       [0., 1., 0.],\n",
              "       [0., 1., 0.],\n",
              "       [0., 1., 0.],\n",
              "       [0., 1., 0.],\n",
              "       [0., 1., 0.],\n",
              "       [0., 1., 0.],\n",
              "       [0., 1., 0.],\n",
              "       [0., 1., 0.],\n",
              "       [0., 1., 0.],\n",
              "       [0., 1., 0.],\n",
              "       [0., 1., 0.],\n",
              "       [0., 1., 0.],\n",
              "       [0., 1., 0.],\n",
              "       [0., 1., 0.],\n",
              "       [0., 1., 0.],\n",
              "       [0., 1., 0.],\n",
              "       [0., 1., 0.],\n",
              "       [0., 1., 0.],\n",
              "       [0., 1., 0.],\n",
              "       [0., 1., 0.],\n",
              "       [0., 1., 0.],\n",
              "       [0., 1., 0.],\n",
              "       [0., 1., 0.],\n",
              "       [0., 1., 0.],\n",
              "       [0., 1., 0.],\n",
              "       [0., 1., 0.],\n",
              "       [0., 1., 0.],\n",
              "       [0., 1., 0.],\n",
              "       [0., 1., 0.],\n",
              "       [0., 1., 0.],\n",
              "       [0., 1., 0.],\n",
              "       [0., 1., 0.],\n",
              "       [0., 1., 0.],\n",
              "       [0., 1., 0.],\n",
              "       [0., 1., 0.],\n",
              "       [0., 1., 0.],\n",
              "       [0., 1., 0.],\n",
              "       [0., 1., 0.],\n",
              "       [0., 1., 0.],\n",
              "       [0., 1., 0.],\n",
              "       [0., 1., 0.],\n",
              "       [0., 0., 1.],\n",
              "       [0., 0., 1.],\n",
              "       [0., 0., 1.],\n",
              "       [0., 0., 1.],\n",
              "       [0., 0., 1.],\n",
              "       [0., 0., 1.],\n",
              "       [0., 0., 1.],\n",
              "       [0., 0., 1.],\n",
              "       [0., 0., 1.],\n",
              "       [0., 0., 1.],\n",
              "       [0., 0., 1.],\n",
              "       [0., 0., 1.],\n",
              "       [0., 0., 1.],\n",
              "       [0., 0., 1.],\n",
              "       [0., 0., 1.],\n",
              "       [0., 0., 1.],\n",
              "       [0., 0., 1.],\n",
              "       [0., 0., 1.],\n",
              "       [0., 0., 1.],\n",
              "       [0., 0., 1.],\n",
              "       [0., 0., 1.],\n",
              "       [0., 0., 1.],\n",
              "       [0., 0., 1.],\n",
              "       [0., 0., 1.],\n",
              "       [0., 0., 1.],\n",
              "       [0., 0., 1.],\n",
              "       [0., 0., 1.],\n",
              "       [0., 0., 1.],\n",
              "       [0., 0., 1.],\n",
              "       [0., 0., 1.],\n",
              "       [0., 0., 1.],\n",
              "       [0., 0., 1.],\n",
              "       [0., 0., 1.],\n",
              "       [0., 0., 1.],\n",
              "       [0., 0., 1.],\n",
              "       [0., 0., 1.],\n",
              "       [0., 0., 1.],\n",
              "       [0., 0., 1.],\n",
              "       [0., 0., 1.],\n",
              "       [0., 0., 1.],\n",
              "       [0., 0., 1.],\n",
              "       [0., 0., 1.],\n",
              "       [0., 0., 1.],\n",
              "       [0., 0., 1.],\n",
              "       [0., 0., 1.],\n",
              "       [0., 0., 1.],\n",
              "       [0., 0., 1.],\n",
              "       [0., 0., 1.],\n",
              "       [0., 0., 1.],\n",
              "       [0., 0., 1.]])"
            ]
          },
          "metadata": {},
          "execution_count": 6
        }
      ]
    },
    {
      "cell_type": "markdown",
      "source": [
        "##Train Test Split"
      ],
      "metadata": {
        "id": "vTumYOEtaNzP"
      }
    },
    {
      "cell_type": "code",
      "source": [
        "X_train, X_test, y_train, y_test = train_test_split(X, y, test_size = 0.2, random_state = 42)"
      ],
      "metadata": {
        "id": "UxCXZmC7aQxk"
      },
      "execution_count": 7,
      "outputs": []
    },
    {
      "cell_type": "code",
      "source": [
        "print(X_train.shape)"
      ],
      "metadata": {
        "colab": {
          "base_uri": "https://localhost:8080/"
        },
        "id": "IdidcRULad8j",
        "outputId": "87c58ba3-ba8d-4c4b-e874-14890a1f3fab"
      },
      "execution_count": 8,
      "outputs": [
        {
          "output_type": "stream",
          "name": "stdout",
          "text": [
            "(120, 4)\n"
          ]
        }
      ]
    },
    {
      "cell_type": "code",
      "source": [
        "print(X_test.shape)"
      ],
      "metadata": {
        "colab": {
          "base_uri": "https://localhost:8080/"
        },
        "id": "LU09T05ValLT",
        "outputId": "6bdef424-8a4a-4a61-85b1-b95ed6baeaeb"
      },
      "execution_count": 9,
      "outputs": [
        {
          "output_type": "stream",
          "name": "stdout",
          "text": [
            "(30, 4)\n"
          ]
        }
      ]
    },
    {
      "cell_type": "code",
      "source": [
        "print(y_train.shape, y_test.shape)"
      ],
      "metadata": {
        "colab": {
          "base_uri": "https://localhost:8080/"
        },
        "id": "VJUuIffXaxsV",
        "outputId": "abb0afe3-d975-4b2f-95eb-8767e89dbbe2"
      },
      "execution_count": 10,
      "outputs": [
        {
          "output_type": "stream",
          "name": "stdout",
          "text": [
            "(120, 3) (30, 3)\n"
          ]
        }
      ]
    },
    {
      "cell_type": "markdown",
      "source": [
        "#Building the model"
      ],
      "metadata": {
        "id": "_2B0lN4Sa4Sf"
      }
    },
    {
      "cell_type": "code",
      "source": [
        "model1 = Sequential()\n",
        "\n",
        "# adding input and hidden layer\n",
        "model1.add(Dense(10, input_shape = (4,), activation = 'relu'))\n",
        "\n",
        "# adding output layer\n",
        "model1.add(Dense(3, activation = 'softmax'))\n",
        "\n",
        "# compiling the model\n",
        "model1.compile(optimizer = 'adam', loss = 'categorical_crossentropy', metrics = ['accuracy'])\n",
        "\n",
        "# training the model\n",
        "model1.fit(X_train, y_train, epochs = 100)"
      ],
      "metadata": {
        "colab": {
          "base_uri": "https://localhost:8080/"
        },
        "id": "zsLXTK58a6bL",
        "outputId": "d8e6049d-53a0-405d-8bf9-3113f2031705"
      },
      "execution_count": 11,
      "outputs": [
        {
          "output_type": "stream",
          "name": "stdout",
          "text": [
            "Epoch 1/100\n",
            "4/4 [==============================] - 3s 10ms/step - loss: 2.0605 - accuracy: 0.3333\n",
            "Epoch 2/100\n",
            "4/4 [==============================] - 0s 17ms/step - loss: 1.9119 - accuracy: 0.3333\n",
            "Epoch 3/100\n",
            "4/4 [==============================] - 0s 8ms/step - loss: 1.7796 - accuracy: 0.3333\n",
            "Epoch 4/100\n",
            "4/4 [==============================] - 0s 8ms/step - loss: 1.6523 - accuracy: 0.3333\n",
            "Epoch 5/100\n",
            "4/4 [==============================] - 0s 9ms/step - loss: 1.5449 - accuracy: 0.3333\n",
            "Epoch 6/100\n",
            "4/4 [==============================] - 0s 6ms/step - loss: 1.4442 - accuracy: 0.3417\n",
            "Epoch 7/100\n",
            "4/4 [==============================] - 0s 9ms/step - loss: 1.3640 - accuracy: 0.3833\n",
            "Epoch 8/100\n",
            "4/4 [==============================] - 0s 19ms/step - loss: 1.2900 - accuracy: 0.4833\n",
            "Epoch 9/100\n",
            "4/4 [==============================] - 0s 13ms/step - loss: 1.2220 - accuracy: 0.6333\n",
            "Epoch 10/100\n",
            "4/4 [==============================] - 0s 16ms/step - loss: 1.1612 - accuracy: 0.6667\n",
            "Epoch 11/100\n",
            "4/4 [==============================] - 0s 6ms/step - loss: 1.1084 - accuracy: 0.6750\n",
            "Epoch 12/100\n",
            "4/4 [==============================] - 0s 7ms/step - loss: 1.0629 - accuracy: 0.6750\n",
            "Epoch 13/100\n",
            "4/4 [==============================] - 0s 6ms/step - loss: 1.0204 - accuracy: 0.6750\n",
            "Epoch 14/100\n",
            "4/4 [==============================] - 0s 13ms/step - loss: 0.9809 - accuracy: 0.6750\n",
            "Epoch 15/100\n",
            "4/4 [==============================] - 0s 6ms/step - loss: 0.9464 - accuracy: 0.6750\n",
            "Epoch 16/100\n",
            "4/4 [==============================] - 0s 10ms/step - loss: 0.9146 - accuracy: 0.6750\n",
            "Epoch 17/100\n",
            "4/4 [==============================] - 0s 9ms/step - loss: 0.8858 - accuracy: 0.6750\n",
            "Epoch 18/100\n",
            "4/4 [==============================] - 0s 9ms/step - loss: 0.8611 - accuracy: 0.6750\n",
            "Epoch 19/100\n",
            "4/4 [==============================] - 0s 8ms/step - loss: 0.8373 - accuracy: 0.6750\n",
            "Epoch 20/100\n",
            "4/4 [==============================] - 0s 9ms/step - loss: 0.8184 - accuracy: 0.6750\n",
            "Epoch 21/100\n",
            "4/4 [==============================] - 0s 8ms/step - loss: 0.8009 - accuracy: 0.6750\n",
            "Epoch 22/100\n",
            "4/4 [==============================] - 0s 12ms/step - loss: 0.7860 - accuracy: 0.6750\n",
            "Epoch 23/100\n",
            "4/4 [==============================] - 0s 7ms/step - loss: 0.7726 - accuracy: 0.6750\n",
            "Epoch 24/100\n",
            "4/4 [==============================] - 0s 16ms/step - loss: 0.7612 - accuracy: 0.6833\n",
            "Epoch 25/100\n",
            "4/4 [==============================] - 0s 10ms/step - loss: 0.7494 - accuracy: 0.6833\n",
            "Epoch 26/100\n",
            "4/4 [==============================] - 0s 12ms/step - loss: 0.7395 - accuracy: 0.7417\n",
            "Epoch 27/100\n",
            "4/4 [==============================] - 0s 9ms/step - loss: 0.7308 - accuracy: 0.8000\n",
            "Epoch 28/100\n",
            "4/4 [==============================] - 0s 5ms/step - loss: 0.7219 - accuracy: 0.8750\n",
            "Epoch 29/100\n",
            "4/4 [==============================] - 0s 8ms/step - loss: 0.7150 - accuracy: 0.8833\n",
            "Epoch 30/100\n",
            "4/4 [==============================] - 0s 9ms/step - loss: 0.7075 - accuracy: 0.8417\n",
            "Epoch 31/100\n",
            "4/4 [==============================] - 0s 14ms/step - loss: 0.7005 - accuracy: 0.8083\n",
            "Epoch 32/100\n",
            "4/4 [==============================] - 0s 9ms/step - loss: 0.6938 - accuracy: 0.8167\n",
            "Epoch 33/100\n",
            "4/4 [==============================] - 0s 7ms/step - loss: 0.6875 - accuracy: 0.8000\n",
            "Epoch 34/100\n",
            "4/4 [==============================] - 0s 8ms/step - loss: 0.6816 - accuracy: 0.8000\n",
            "Epoch 35/100\n",
            "4/4 [==============================] - 0s 5ms/step - loss: 0.6758 - accuracy: 0.8000\n",
            "Epoch 36/100\n",
            "4/4 [==============================] - 0s 9ms/step - loss: 0.6703 - accuracy: 0.7917\n",
            "Epoch 37/100\n",
            "4/4 [==============================] - 0s 7ms/step - loss: 0.6649 - accuracy: 0.7833\n",
            "Epoch 38/100\n",
            "4/4 [==============================] - 0s 6ms/step - loss: 0.6597 - accuracy: 0.7750\n",
            "Epoch 39/100\n",
            "4/4 [==============================] - 0s 7ms/step - loss: 0.6548 - accuracy: 0.7667\n",
            "Epoch 40/100\n",
            "4/4 [==============================] - 0s 5ms/step - loss: 0.6498 - accuracy: 0.7750\n",
            "Epoch 41/100\n",
            "4/4 [==============================] - 0s 5ms/step - loss: 0.6450 - accuracy: 0.7750\n",
            "Epoch 42/100\n",
            "4/4 [==============================] - 0s 6ms/step - loss: 0.6405 - accuracy: 0.7750\n",
            "Epoch 43/100\n",
            "4/4 [==============================] - 0s 6ms/step - loss: 0.6360 - accuracy: 0.7917\n",
            "Epoch 44/100\n",
            "4/4 [==============================] - 0s 4ms/step - loss: 0.6315 - accuracy: 0.8167\n",
            "Epoch 45/100\n",
            "4/4 [==============================] - 0s 20ms/step - loss: 0.6273 - accuracy: 0.8167\n",
            "Epoch 46/100\n",
            "4/4 [==============================] - 0s 6ms/step - loss: 0.6231 - accuracy: 0.8250\n",
            "Epoch 47/100\n",
            "4/4 [==============================] - 0s 6ms/step - loss: 0.6192 - accuracy: 0.8333\n",
            "Epoch 48/100\n",
            "4/4 [==============================] - 0s 10ms/step - loss: 0.6150 - accuracy: 0.8417\n",
            "Epoch 49/100\n",
            "4/4 [==============================] - 0s 6ms/step - loss: 0.6113 - accuracy: 0.8417\n",
            "Epoch 50/100\n",
            "4/4 [==============================] - 0s 8ms/step - loss: 0.6073 - accuracy: 0.8417\n",
            "Epoch 51/100\n",
            "4/4 [==============================] - 0s 6ms/step - loss: 0.6036 - accuracy: 0.8500\n",
            "Epoch 52/100\n",
            "4/4 [==============================] - 0s 9ms/step - loss: 0.6001 - accuracy: 0.8417\n",
            "Epoch 53/100\n",
            "4/4 [==============================] - 0s 7ms/step - loss: 0.5964 - accuracy: 0.8417\n",
            "Epoch 54/100\n",
            "4/4 [==============================] - 0s 9ms/step - loss: 0.5929 - accuracy: 0.8500\n",
            "Epoch 55/100\n",
            "4/4 [==============================] - 0s 9ms/step - loss: 0.5894 - accuracy: 0.8500\n",
            "Epoch 56/100\n",
            "4/4 [==============================] - 0s 4ms/step - loss: 0.5861 - accuracy: 0.8583\n",
            "Epoch 57/100\n",
            "4/4 [==============================] - 0s 14ms/step - loss: 0.5827 - accuracy: 0.8583\n",
            "Epoch 58/100\n",
            "4/4 [==============================] - 0s 9ms/step - loss: 0.5795 - accuracy: 0.8667\n",
            "Epoch 59/100\n",
            "4/4 [==============================] - 0s 7ms/step - loss: 0.5762 - accuracy: 0.8667\n",
            "Epoch 60/100\n",
            "4/4 [==============================] - 0s 10ms/step - loss: 0.5731 - accuracy: 0.8667\n",
            "Epoch 61/100\n",
            "4/4 [==============================] - 0s 10ms/step - loss: 0.5701 - accuracy: 0.8667\n",
            "Epoch 62/100\n",
            "4/4 [==============================] - 0s 9ms/step - loss: 0.5670 - accuracy: 0.8750\n",
            "Epoch 63/100\n",
            "4/4 [==============================] - 0s 9ms/step - loss: 0.5640 - accuracy: 0.8750\n",
            "Epoch 64/100\n",
            "4/4 [==============================] - 0s 9ms/step - loss: 0.5610 - accuracy: 0.8750\n",
            "Epoch 65/100\n",
            "4/4 [==============================] - 0s 19ms/step - loss: 0.5581 - accuracy: 0.8833\n",
            "Epoch 66/100\n",
            "4/4 [==============================] - 0s 11ms/step - loss: 0.5553 - accuracy: 0.8833\n",
            "Epoch 67/100\n",
            "4/4 [==============================] - 0s 11ms/step - loss: 0.5527 - accuracy: 0.9000\n",
            "Epoch 68/100\n",
            "4/4 [==============================] - 0s 8ms/step - loss: 0.5497 - accuracy: 0.9000\n",
            "Epoch 69/100\n",
            "4/4 [==============================] - 0s 12ms/step - loss: 0.5471 - accuracy: 0.9000\n",
            "Epoch 70/100\n",
            "4/4 [==============================] - 0s 9ms/step - loss: 0.5444 - accuracy: 0.9000\n",
            "Epoch 71/100\n",
            "4/4 [==============================] - 0s 8ms/step - loss: 0.5417 - accuracy: 0.9083\n",
            "Epoch 72/100\n",
            "4/4 [==============================] - 0s 9ms/step - loss: 0.5392 - accuracy: 0.9083\n",
            "Epoch 73/100\n",
            "4/4 [==============================] - 0s 9ms/step - loss: 0.5366 - accuracy: 0.9083\n",
            "Epoch 74/100\n",
            "4/4 [==============================] - 0s 7ms/step - loss: 0.5339 - accuracy: 0.9167\n",
            "Epoch 75/100\n",
            "4/4 [==============================] - 0s 11ms/step - loss: 0.5315 - accuracy: 0.9083\n",
            "Epoch 76/100\n",
            "4/4 [==============================] - 0s 5ms/step - loss: 0.5290 - accuracy: 0.9083\n",
            "Epoch 77/100\n",
            "4/4 [==============================] - 0s 6ms/step - loss: 0.5266 - accuracy: 0.9000\n",
            "Epoch 78/100\n",
            "4/4 [==============================] - 0s 7ms/step - loss: 0.5242 - accuracy: 0.9000\n",
            "Epoch 79/100\n",
            "4/4 [==============================] - 0s 6ms/step - loss: 0.5218 - accuracy: 0.9000\n",
            "Epoch 80/100\n",
            "4/4 [==============================] - 0s 6ms/step - loss: 0.5195 - accuracy: 0.9000\n",
            "Epoch 81/100\n",
            "4/4 [==============================] - 0s 11ms/step - loss: 0.5172 - accuracy: 0.9000\n",
            "Epoch 82/100\n",
            "4/4 [==============================] - 0s 10ms/step - loss: 0.5149 - accuracy: 0.9000\n",
            "Epoch 83/100\n",
            "4/4 [==============================] - 0s 6ms/step - loss: 0.5127 - accuracy: 0.9000\n",
            "Epoch 84/100\n",
            "4/4 [==============================] - 0s 11ms/step - loss: 0.5105 - accuracy: 0.9167\n",
            "Epoch 85/100\n",
            "4/4 [==============================] - 0s 9ms/step - loss: 0.5083 - accuracy: 0.9083\n",
            "Epoch 86/100\n",
            "4/4 [==============================] - 0s 9ms/step - loss: 0.5061 - accuracy: 0.9083\n",
            "Epoch 87/100\n",
            "4/4 [==============================] - 0s 9ms/step - loss: 0.5039 - accuracy: 0.9167\n",
            "Epoch 88/100\n",
            "4/4 [==============================] - 0s 9ms/step - loss: 0.5017 - accuracy: 0.9250\n",
            "Epoch 89/100\n",
            "4/4 [==============================] - 0s 5ms/step - loss: 0.4998 - accuracy: 0.9167\n",
            "Epoch 90/100\n",
            "4/4 [==============================] - 0s 6ms/step - loss: 0.4974 - accuracy: 0.9250\n",
            "Epoch 91/100\n",
            "4/4 [==============================] - 0s 12ms/step - loss: 0.4954 - accuracy: 0.9250\n",
            "Epoch 92/100\n",
            "4/4 [==============================] - 0s 6ms/step - loss: 0.4933 - accuracy: 0.9333\n",
            "Epoch 93/100\n",
            "4/4 [==============================] - 0s 7ms/step - loss: 0.4914 - accuracy: 0.9333\n",
            "Epoch 94/100\n",
            "4/4 [==============================] - 0s 6ms/step - loss: 0.4893 - accuracy: 0.9417\n",
            "Epoch 95/100\n",
            "4/4 [==============================] - 0s 6ms/step - loss: 0.4873 - accuracy: 0.9417\n",
            "Epoch 96/100\n",
            "4/4 [==============================] - 0s 10ms/step - loss: 0.4853 - accuracy: 0.9417\n",
            "Epoch 97/100\n",
            "4/4 [==============================] - 0s 4ms/step - loss: 0.4834 - accuracy: 0.9417\n",
            "Epoch 98/100\n",
            "4/4 [==============================] - 0s 5ms/step - loss: 0.4814 - accuracy: 0.9417\n",
            "Epoch 99/100\n",
            "4/4 [==============================] - 0s 5ms/step - loss: 0.4793 - accuracy: 0.9417\n",
            "Epoch 100/100\n",
            "4/4 [==============================] - 0s 7ms/step - loss: 0.4774 - accuracy: 0.9417\n"
          ]
        },
        {
          "output_type": "execute_result",
          "data": {
            "text/plain": [
              "<keras.src.callbacks.History at 0x7cf379f0a020>"
            ]
          },
          "metadata": {},
          "execution_count": 11
        }
      ]
    },
    {
      "cell_type": "markdown",
      "source": [
        "##Training accuracy = 94.17%"
      ],
      "metadata": {
        "id": "z74uGHV-dT59"
      }
    },
    {
      "cell_type": "code",
      "source": [
        "model1.evaluate(X_test, y_test)"
      ],
      "metadata": {
        "colab": {
          "base_uri": "https://localhost:8080/"
        },
        "id": "1wsIDgaHdYXM",
        "outputId": "40352f54-26f1-4e84-a84f-75cd4d8b3833"
      },
      "execution_count": 12,
      "outputs": [
        {
          "output_type": "stream",
          "name": "stdout",
          "text": [
            "1/1 [==============================] - 0s 388ms/step - loss: 0.4713 - accuracy: 0.9667\n"
          ]
        },
        {
          "output_type": "execute_result",
          "data": {
            "text/plain": [
              "[0.47132760286331177, 0.9666666388511658]"
            ]
          },
          "metadata": {},
          "execution_count": 12
        }
      ]
    },
    {
      "cell_type": "markdown",
      "source": [
        "##Testing accuracy = 96.67%\n",
      ],
      "metadata": {
        "id": "oHb5LRQxfVeI"
      }
    },
    {
      "cell_type": "markdown",
      "source": [
        "***lets make predictions***"
      ],
      "metadata": {
        "id": "RGZ_xLaAfhq7"
      }
    },
    {
      "cell_type": "code",
      "source": [
        "y_pred = model1.predict(X_test)"
      ],
      "metadata": {
        "colab": {
          "base_uri": "https://localhost:8080/"
        },
        "id": "cJgbYUmcfchT",
        "outputId": "e787138f-1ae2-4989-ef0b-a241f11c2e9a"
      },
      "execution_count": 13,
      "outputs": [
        {
          "output_type": "stream",
          "name": "stdout",
          "text": [
            "1/1 [==============================] - 0s 249ms/step\n"
          ]
        }
      ]
    },
    {
      "cell_type": "code",
      "source": [
        "y_pred[0]"
      ],
      "metadata": {
        "colab": {
          "base_uri": "https://localhost:8080/"
        },
        "id": "ZooCM5bqftln",
        "outputId": "80d1a841-fb42-4556-8ef3-d33428ddc787"
      },
      "execution_count": 14,
      "outputs": [
        {
          "output_type": "execute_result",
          "data": {
            "text/plain": [
              "array([0.08846192, 0.486337  , 0.42520112], dtype=float32)"
            ]
          },
          "metadata": {},
          "execution_count": 14
        }
      ]
    },
    {
      "cell_type": "code",
      "source": [
        "np.argmax(y_pred[0])"
      ],
      "metadata": {
        "colab": {
          "base_uri": "https://localhost:8080/"
        },
        "id": "H2bNBOpLf93n",
        "outputId": "f6399505-cadd-4ecd-f93c-f0ccbb100e1f"
      },
      "execution_count": 16,
      "outputs": [
        {
          "output_type": "execute_result",
          "data": {
            "text/plain": [
              "1"
            ]
          },
          "metadata": {},
          "execution_count": 16
        }
      ]
    },
    {
      "cell_type": "code",
      "source": [
        "np.argmax(y_test[0])"
      ],
      "metadata": {
        "colab": {
          "base_uri": "https://localhost:8080/"
        },
        "id": "QzsgXN6SgBhj",
        "outputId": "9cd6afb6-224a-43a1-a735-010e4962ee95"
      },
      "execution_count": 17,
      "outputs": [
        {
          "output_type": "execute_result",
          "data": {
            "text/plain": [
              "1"
            ]
          },
          "metadata": {},
          "execution_count": 17
        }
      ]
    },
    {
      "cell_type": "code",
      "source": [
        "y_pred_new = [np.argmax(i) for i in y_pred]\n",
        "y_test_new = [np.argmax(i) for i in y_test]"
      ],
      "metadata": {
        "id": "jkv6Pzojfxpo"
      },
      "execution_count": 18,
      "outputs": []
    },
    {
      "cell_type": "code",
      "source": [
        "y_pred_new[:10]"
      ],
      "metadata": {
        "colab": {
          "base_uri": "https://localhost:8080/"
        },
        "id": "jhPJNUeSgQGg",
        "outputId": "9685d895-0b48-48e3-a8dc-6c43f4826af2"
      },
      "execution_count": 19,
      "outputs": [
        {
          "output_type": "execute_result",
          "data": {
            "text/plain": [
              "[1, 0, 2, 1, 1, 0, 1, 2, 2, 1]"
            ]
          },
          "metadata": {},
          "execution_count": 19
        }
      ]
    },
    {
      "cell_type": "code",
      "source": [
        "y_test[:10]"
      ],
      "metadata": {
        "colab": {
          "base_uri": "https://localhost:8080/"
        },
        "id": "rak_GoT9hn1p",
        "outputId": "0bca8d12-00b1-4055-cd4f-5270e353d5de"
      },
      "execution_count": 20,
      "outputs": [
        {
          "output_type": "execute_result",
          "data": {
            "text/plain": [
              "array([[0., 1., 0.],\n",
              "       [1., 0., 0.],\n",
              "       [0., 0., 1.],\n",
              "       [0., 1., 0.],\n",
              "       [0., 1., 0.],\n",
              "       [1., 0., 0.],\n",
              "       [0., 1., 0.],\n",
              "       [0., 0., 1.],\n",
              "       [0., 1., 0.],\n",
              "       [0., 1., 0.]])"
            ]
          },
          "metadata": {},
          "execution_count": 20
        }
      ]
    },
    {
      "cell_type": "code",
      "source": [
        "y_test_new[:10]"
      ],
      "metadata": {
        "colab": {
          "base_uri": "https://localhost:8080/"
        },
        "id": "NY1VmE5igZGB",
        "outputId": "1ebbc465-a68b-422c-c475-12eca2d58c80"
      },
      "execution_count": 21,
      "outputs": [
        {
          "output_type": "execute_result",
          "data": {
            "text/plain": [
              "[1, 0, 2, 1, 1, 0, 1, 2, 1, 1]"
            ]
          },
          "metadata": {},
          "execution_count": 21
        }
      ]
    },
    {
      "cell_type": "markdown",
      "source": [
        "#Confusion Matrix"
      ],
      "metadata": {
        "id": "HjyT3wZihqZW"
      }
    },
    {
      "cell_type": "code",
      "source": [
        "CM = tf.math.confusion_matrix(labels = y_test_new, predictions = y_pred_new)\n",
        "CM"
      ],
      "metadata": {
        "colab": {
          "base_uri": "https://localhost:8080/"
        },
        "id": "3MWtZiVzhsfK",
        "outputId": "8cf44407-552b-4450-c900-391bacc5185e"
      },
      "execution_count": 22,
      "outputs": [
        {
          "output_type": "execute_result",
          "data": {
            "text/plain": [
              "<tf.Tensor: shape=(3, 3), dtype=int32, numpy=\n",
              "array([[10,  0,  0],\n",
              "       [ 0,  8,  1],\n",
              "       [ 0,  0, 11]], dtype=int32)>"
            ]
          },
          "metadata": {},
          "execution_count": 22
        }
      ]
    },
    {
      "cell_type": "markdown",
      "source": [
        "##Using heatmap"
      ],
      "metadata": {
        "id": "yXJc3IajiL6h"
      }
    },
    {
      "cell_type": "code",
      "source": [
        "import seaborn as sns"
      ],
      "metadata": {
        "id": "_VJr-v_Si5jS"
      },
      "execution_count": 23,
      "outputs": []
    },
    {
      "cell_type": "code",
      "source": [
        "plt.figure(figsize=(9,6))\n",
        "sns.heatmap(CM, annot = True, fmt = 'd')\n",
        "plt.xlabel('Predicted Values')\n",
        "plt.ylabel('Actual Values')\n",
        "plt.title('Neural Network Iris Predictions')\n",
        "plt.show()"
      ],
      "metadata": {
        "colab": {
          "base_uri": "https://localhost:8080/",
          "height": 564
        },
        "id": "ssPVlfoPiCPX",
        "outputId": "d2cb5f72-7dd7-4beb-8edd-3ac0920ab80d"
      },
      "execution_count": 27,
      "outputs": [
        {
          "output_type": "display_data",
          "data": {
            "text/plain": [
              "<Figure size 900x600 with 2 Axes>"
            ],
            "image/png": "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\n"
          },
          "metadata": {}
        }
      ]
    }
  ]
}
